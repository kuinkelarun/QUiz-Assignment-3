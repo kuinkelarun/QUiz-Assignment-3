{
 "cells": [
  {
   "cell_type": "markdown",
   "metadata": {},
   "source": [
    "## Wine\n",
    "\n",
    "The data set we will be using for this project has several attributes or chemical components that make up wines. Each of these attributes contribute to either the taste of the wines or the price, which may determine the number of cases these wines are sold.\n",
    "\n",
    "Attributes that impact taste of wine (following definitions sourced from the internet):\n",
    "\n",
    "* Fixed Acidity: Fixed acidity corresponds to the set of low volatility organic acids such as malic, lactic, tartaric or citric acids and is inherent to the characteristics of the sample\n",
    "\n",
    "* Volatile Acidity: volatile acidity corresponds to the set of short chain organic acids that can be extracted from the sample by means of a distillation process\n",
    "\n",
    "* Citric Acid: Citric acid is often added to wines to increase acidity, complement a specific flavor or prevent ferric hazes. It complements specific sugar\n",
    "\n",
    "* Residual Sugar: Residual Sugar (or RS) is from natural grape sugars leftover in a wine after the alcoholic fermentation finishes. It’s measured in grams per liter\n",
    "\n",
    "* Chlorides: Impact the taste, as it bring major contribution to saltiness in wine taste\n",
    "\n",
    "* pH: If the pH is higher, the wine will be softer and rounder, and if the pH is lower, it will feel more linear\n",
    "\n",
    "* Sulphates: While many wine producers agree that very high amounts can alter the taste and color, low amounts actually preserve the flavors\n",
    "\n",
    "\n"
   ]
  },
  {
   "cell_type": "markdown",
   "metadata": {},
   "source": [
    "### Uploading data"
   ]
  },
  {
   "cell_type": "code",
   "execution_count": 165,
   "metadata": {},
   "outputs": [],
   "source": [
    "# bunch of import statememts that are going to be used throught the project\n",
    "\n",
    "import pandas as pd\n",
    "import numpy as np\n",
    "import seaborn as sns\n",
    "import matplotlib.pyplot as plt"
   ]
  },
  {
   "cell_type": "code",
   "execution_count": 166,
   "metadata": {},
   "outputs": [
    {
     "data": {
      "text/html": [
       "<div>\n",
       "<style scoped>\n",
       "    .dataframe tbody tr th:only-of-type {\n",
       "        vertical-align: middle;\n",
       "    }\n",
       "\n",
       "    .dataframe tbody tr th {\n",
       "        vertical-align: top;\n",
       "    }\n",
       "\n",
       "    .dataframe thead th {\n",
       "        text-align: right;\n",
       "    }\n",
       "</style>\n",
       "<table border=\"1\" class=\"dataframe\">\n",
       "  <thead>\n",
       "    <tr style=\"text-align: right;\">\n",
       "      <th></th>\n",
       "      <th>0</th>\n",
       "      <th>1</th>\n",
       "      <th>2</th>\n",
       "      <th>3</th>\n",
       "      <th>4</th>\n",
       "      <th>5</th>\n",
       "      <th>6</th>\n",
       "      <th>7</th>\n",
       "      <th>8</th>\n",
       "      <th>9</th>\n",
       "      <th>10</th>\n",
       "      <th>11</th>\n",
       "      <th>12</th>\n",
       "      <th>13</th>\n",
       "      <th>14</th>\n",
       "      <th>15</th>\n",
       "    </tr>\n",
       "  </thead>\n",
       "  <tbody>\n",
       "    <tr>\n",
       "      <th>0</th>\n",
       "      <td>INDEX</td>\n",
       "      <td>TARGET</td>\n",
       "      <td>FixedAcidity</td>\n",
       "      <td>VolatileAcidity</td>\n",
       "      <td>CitricAcid</td>\n",
       "      <td>ResidualSugar</td>\n",
       "      <td>Chlorides</td>\n",
       "      <td>FreeSulfurDioxide</td>\n",
       "      <td>TotalSulfurDioxide</td>\n",
       "      <td>Density</td>\n",
       "      <td>pH</td>\n",
       "      <td>Sulphates</td>\n",
       "      <td>Alcohol</td>\n",
       "      <td>LabelAppeal</td>\n",
       "      <td>AcidIndex</td>\n",
       "      <td>STARS</td>\n",
       "    </tr>\n",
       "    <tr>\n",
       "      <th>1</th>\n",
       "      <td>1</td>\n",
       "      <td>3</td>\n",
       "      <td>3.2</td>\n",
       "      <td>1.16</td>\n",
       "      <td>-0.98</td>\n",
       "      <td>54.2</td>\n",
       "      <td>-0.567</td>\n",
       "      <td>NaN</td>\n",
       "      <td>268</td>\n",
       "      <td>0.9928</td>\n",
       "      <td>3.33</td>\n",
       "      <td>-0.59</td>\n",
       "      <td>9.9</td>\n",
       "      <td>0</td>\n",
       "      <td>8</td>\n",
       "      <td>2</td>\n",
       "    </tr>\n",
       "    <tr>\n",
       "      <th>2</th>\n",
       "      <td>2</td>\n",
       "      <td>3</td>\n",
       "      <td>4.5</td>\n",
       "      <td>0.16</td>\n",
       "      <td>-0.81</td>\n",
       "      <td>26.1</td>\n",
       "      <td>-0.425</td>\n",
       "      <td>15</td>\n",
       "      <td>-327</td>\n",
       "      <td>1.02792</td>\n",
       "      <td>3.38</td>\n",
       "      <td>0.7</td>\n",
       "      <td>NaN</td>\n",
       "      <td>-1</td>\n",
       "      <td>7</td>\n",
       "      <td>3</td>\n",
       "    </tr>\n",
       "    <tr>\n",
       "      <th>3</th>\n",
       "      <td>4</td>\n",
       "      <td>5</td>\n",
       "      <td>7.1</td>\n",
       "      <td>2.64</td>\n",
       "      <td>-0.88</td>\n",
       "      <td>14.8</td>\n",
       "      <td>0.037</td>\n",
       "      <td>214</td>\n",
       "      <td>142</td>\n",
       "      <td>0.99518</td>\n",
       "      <td>3.12</td>\n",
       "      <td>0.48</td>\n",
       "      <td>22</td>\n",
       "      <td>-1</td>\n",
       "      <td>8</td>\n",
       "      <td>3</td>\n",
       "    </tr>\n",
       "    <tr>\n",
       "      <th>4</th>\n",
       "      <td>5</td>\n",
       "      <td>3</td>\n",
       "      <td>5.7</td>\n",
       "      <td>0.385</td>\n",
       "      <td>0.04</td>\n",
       "      <td>18.8</td>\n",
       "      <td>-0.425</td>\n",
       "      <td>22</td>\n",
       "      <td>115</td>\n",
       "      <td>0.9964</td>\n",
       "      <td>2.24</td>\n",
       "      <td>1.83</td>\n",
       "      <td>6.2</td>\n",
       "      <td>-1</td>\n",
       "      <td>6</td>\n",
       "      <td>1</td>\n",
       "    </tr>\n",
       "  </tbody>\n",
       "</table>\n",
       "</div>"
      ],
      "text/plain": [
       "      0       1             2                3           4              5   \\\n",
       "0  INDEX  TARGET  FixedAcidity  VolatileAcidity  CitricAcid  ResidualSugar   \n",
       "1      1       3           3.2             1.16       -0.98           54.2   \n",
       "2      2       3           4.5             0.16       -0.81           26.1   \n",
       "3      4       5           7.1             2.64       -0.88           14.8   \n",
       "4      5       3           5.7            0.385        0.04           18.8   \n",
       "\n",
       "          6                  7                   8        9     10         11  \\\n",
       "0  Chlorides  FreeSulfurDioxide  TotalSulfurDioxide  Density    pH  Sulphates   \n",
       "1     -0.567                NaN                 268   0.9928  3.33      -0.59   \n",
       "2     -0.425                 15                -327  1.02792  3.38        0.7   \n",
       "3      0.037                214                 142  0.99518  3.12       0.48   \n",
       "4     -0.425                 22                 115   0.9964  2.24       1.83   \n",
       "\n",
       "        12           13         14     15  \n",
       "0  Alcohol  LabelAppeal  AcidIndex  STARS  \n",
       "1      9.9            0          8      2  \n",
       "2      NaN           -1          7      3  \n",
       "3       22           -1          8      3  \n",
       "4      6.2           -1          6      1  "
      ]
     },
     "execution_count": 166,
     "metadata": {},
     "output_type": "execute_result"
    }
   ],
   "source": [
    "# uploading data to pandas\n",
    "\n",
    "df = pd.read_csv('https://raw.githubusercontent.com/MatthewFried/Udemy/master/Day2/Day2_Data.csv', header=None)\n",
    "\n",
    "#prints few lines of the sample table including the deader \n",
    "df.head()\n",
    "# print(df.shape)\n",
    "\n"
   ]
  },
  {
   "cell_type": "markdown",
   "metadata": {},
   "source": [
    "### Assigning column names "
   ]
  },
  {
   "cell_type": "code",
   "execution_count": 167,
   "metadata": {},
   "outputs": [
    {
     "name": "stdout",
     "output_type": "stream",
     "text": [
      "(12795, 16)\n"
     ]
    },
    {
     "data": {
      "text/html": [
       "<div>\n",
       "<style scoped>\n",
       "    .dataframe tbody tr th:only-of-type {\n",
       "        vertical-align: middle;\n",
       "    }\n",
       "\n",
       "    .dataframe tbody tr th {\n",
       "        vertical-align: top;\n",
       "    }\n",
       "\n",
       "    .dataframe thead th {\n",
       "        text-align: right;\n",
       "    }\n",
       "</style>\n",
       "<table border=\"1\" class=\"dataframe\">\n",
       "  <thead>\n",
       "    <tr style=\"text-align: right;\">\n",
       "      <th></th>\n",
       "      <th>Unique ID</th>\n",
       "      <th>Num Cases</th>\n",
       "      <th>Fixed Acidity</th>\n",
       "      <th>Volatile Acidity</th>\n",
       "      <th>Citric Acid</th>\n",
       "      <th>Residual Sugar</th>\n",
       "      <th>Chlorides</th>\n",
       "      <th>Sulfur Dioxide</th>\n",
       "      <th>Total Sulfur Dioxide</th>\n",
       "      <th>Density</th>\n",
       "      <th>pH</th>\n",
       "      <th>Sulphates</th>\n",
       "      <th>Alcohal Content</th>\n",
       "      <th>Label Appeal</th>\n",
       "      <th>Total Acidity</th>\n",
       "      <th>STARS</th>\n",
       "    </tr>\n",
       "  </thead>\n",
       "  <tbody>\n",
       "    <tr>\n",
       "      <th>1</th>\n",
       "      <td>1</td>\n",
       "      <td>3</td>\n",
       "      <td>3.2</td>\n",
       "      <td>1.16</td>\n",
       "      <td>-0.98</td>\n",
       "      <td>54.2</td>\n",
       "      <td>-0.567</td>\n",
       "      <td>NaN</td>\n",
       "      <td>268</td>\n",
       "      <td>0.9928</td>\n",
       "      <td>3.33</td>\n",
       "      <td>-0.59</td>\n",
       "      <td>9.9</td>\n",
       "      <td>0</td>\n",
       "      <td>8</td>\n",
       "      <td>2</td>\n",
       "    </tr>\n",
       "    <tr>\n",
       "      <th>2</th>\n",
       "      <td>2</td>\n",
       "      <td>3</td>\n",
       "      <td>4.5</td>\n",
       "      <td>0.16</td>\n",
       "      <td>-0.81</td>\n",
       "      <td>26.1</td>\n",
       "      <td>-0.425</td>\n",
       "      <td>15</td>\n",
       "      <td>-327</td>\n",
       "      <td>1.02792</td>\n",
       "      <td>3.38</td>\n",
       "      <td>0.7</td>\n",
       "      <td>NaN</td>\n",
       "      <td>-1</td>\n",
       "      <td>7</td>\n",
       "      <td>3</td>\n",
       "    </tr>\n",
       "    <tr>\n",
       "      <th>3</th>\n",
       "      <td>4</td>\n",
       "      <td>5</td>\n",
       "      <td>7.1</td>\n",
       "      <td>2.64</td>\n",
       "      <td>-0.88</td>\n",
       "      <td>14.8</td>\n",
       "      <td>0.037</td>\n",
       "      <td>214</td>\n",
       "      <td>142</td>\n",
       "      <td>0.99518</td>\n",
       "      <td>3.12</td>\n",
       "      <td>0.48</td>\n",
       "      <td>22</td>\n",
       "      <td>-1</td>\n",
       "      <td>8</td>\n",
       "      <td>3</td>\n",
       "    </tr>\n",
       "    <tr>\n",
       "      <th>4</th>\n",
       "      <td>5</td>\n",
       "      <td>3</td>\n",
       "      <td>5.7</td>\n",
       "      <td>0.385</td>\n",
       "      <td>0.04</td>\n",
       "      <td>18.8</td>\n",
       "      <td>-0.425</td>\n",
       "      <td>22</td>\n",
       "      <td>115</td>\n",
       "      <td>0.9964</td>\n",
       "      <td>2.24</td>\n",
       "      <td>1.83</td>\n",
       "      <td>6.2</td>\n",
       "      <td>-1</td>\n",
       "      <td>6</td>\n",
       "      <td>1</td>\n",
       "    </tr>\n",
       "    <tr>\n",
       "      <th>5</th>\n",
       "      <td>6</td>\n",
       "      <td>4</td>\n",
       "      <td>8</td>\n",
       "      <td>0.33</td>\n",
       "      <td>-1.26</td>\n",
       "      <td>9.4</td>\n",
       "      <td>NaN</td>\n",
       "      <td>-167</td>\n",
       "      <td>108</td>\n",
       "      <td>0.99457</td>\n",
       "      <td>3.12</td>\n",
       "      <td>1.77</td>\n",
       "      <td>13.7</td>\n",
       "      <td>0</td>\n",
       "      <td>9</td>\n",
       "      <td>2</td>\n",
       "    </tr>\n",
       "  </tbody>\n",
       "</table>\n",
       "</div>"
      ],
      "text/plain": [
       "  Unique ID Num Cases Fixed Acidity Volatile Acidity Citric Acid  \\\n",
       "1         1         3           3.2             1.16       -0.98   \n",
       "2         2         3           4.5             0.16       -0.81   \n",
       "3         4         5           7.1             2.64       -0.88   \n",
       "4         5         3           5.7            0.385        0.04   \n",
       "5         6         4             8             0.33       -1.26   \n",
       "\n",
       "  Residual Sugar Chlorides Sulfur Dioxide Total Sulfur Dioxide  Density    pH  \\\n",
       "1           54.2    -0.567            NaN                  268   0.9928  3.33   \n",
       "2           26.1    -0.425             15                 -327  1.02792  3.38   \n",
       "3           14.8     0.037            214                  142  0.99518  3.12   \n",
       "4           18.8    -0.425             22                  115   0.9964  2.24   \n",
       "5            9.4       NaN           -167                  108  0.99457  3.12   \n",
       "\n",
       "  Sulphates Alcohal Content Label Appeal Total Acidity STARS  \n",
       "1     -0.59             9.9            0             8     2  \n",
       "2       0.7             NaN           -1             7     3  \n",
       "3      0.48              22           -1             8     3  \n",
       "4      1.83             6.2           -1             6     1  \n",
       "5      1.77            13.7            0             9     2  "
      ]
     },
     "execution_count": 167,
     "metadata": {},
     "output_type": "execute_result"
    }
   ],
   "source": [
    "#drop the first row which contains all the column names\n",
    "# as we are assigning them as a column\n",
    "new_df = df.drop(0)\n",
    "\n",
    "# assigning column names\n",
    "\n",
    "new_df.columns = ['Unique ID', 'Num Cases', 'Fixed Acidity',  'Volatile Acidity', 'Citric Acid', 'Residual Sugar', 'Chlorides', 'Sulfur Dioxide', 'Total Sulfur Dioxide', 'Density', 'pH', 'Sulphates', 'Alcohal Content', 'Label Appeal', 'Total Acidity', 'STARS']\n",
    "\n",
    "# print size of the data set\n",
    "print(new_df.shape)\n",
    "\n",
    "# print head again to see if column names are properly applied\n",
    "new_df.head()"
   ]
  },
  {
   "cell_type": "markdown",
   "metadata": {},
   "source": [
    "### 3. Using your Python skills, perform exploratory data analysis (EDA) on all of the provided data attributes and document your findings. Your EDA writeup should include any insights you are able to derive from your statistical analysis of the attributes and the accompanying exploratory graphics you create (e.g., bar plots, box plots, histograms, line plots, etc.). It is up to you as the data science practitioner to decide how you go about your EDA, including selecting appropriate statistical metrics to be calculated which types of exploratory graphics to make use of. You should also identify any and all potential data integrity issues (e.g., missing data values; invalid data values; etc.) "
   ]
  },
  {
   "cell_type": "markdown",
   "metadata": {},
   "source": [
    "### Exploratory Data Analytics (EDA)"
   ]
  },
  {
   "cell_type": "markdown",
   "metadata": {},
   "source": [
    "Running a general statistics for the given data. This data consists of 12795 rows and 16 different columns. All of these attributes are assigned as object data type. It appears as though, the dats types needs changes as all of them may not be objects. Because all of these attributes are listed as objects, non of the mathematical operations are calculated such as mean, standard deviation and the percentiles (25%, 50% Median, and 75%). From the initial glance into the general stat table, it appears that there is a need for a lot of data cleaning. \n",
    "\n",
    "There are a lot of variables in this data set. And most of these variables contribute to the taste of wine. Better testing wines are assumed to have sold more and have better \"STAR\" ratings, which is why the analysis will focus on the quantity sold, and their ratings associating them with the quality or taste of wine. "
   ]
  },
  {
   "cell_type": "code",
   "execution_count": 168,
   "metadata": {},
   "outputs": [
    {
     "data": {
      "text/html": [
       "<div>\n",
       "<style scoped>\n",
       "    .dataframe tbody tr th:only-of-type {\n",
       "        vertical-align: middle;\n",
       "    }\n",
       "\n",
       "    .dataframe tbody tr th {\n",
       "        vertical-align: top;\n",
       "    }\n",
       "\n",
       "    .dataframe thead th {\n",
       "        text-align: right;\n",
       "    }\n",
       "</style>\n",
       "<table border=\"1\" class=\"dataframe\">\n",
       "  <thead>\n",
       "    <tr style=\"text-align: right;\">\n",
       "      <th></th>\n",
       "      <th>Unique ID</th>\n",
       "      <th>Num Cases</th>\n",
       "      <th>Fixed Acidity</th>\n",
       "      <th>Volatile Acidity</th>\n",
       "      <th>Citric Acid</th>\n",
       "      <th>Residual Sugar</th>\n",
       "      <th>Chlorides</th>\n",
       "      <th>Sulfur Dioxide</th>\n",
       "      <th>Total Sulfur Dioxide</th>\n",
       "      <th>Density</th>\n",
       "      <th>pH</th>\n",
       "      <th>Sulphates</th>\n",
       "      <th>Alcohal Content</th>\n",
       "      <th>Label Appeal</th>\n",
       "      <th>Total Acidity</th>\n",
       "      <th>STARS</th>\n",
       "    </tr>\n",
       "  </thead>\n",
       "  <tbody>\n",
       "    <tr>\n",
       "      <th>count</th>\n",
       "      <td>12795</td>\n",
       "      <td>12795</td>\n",
       "      <td>12795</td>\n",
       "      <td>12795</td>\n",
       "      <td>12795</td>\n",
       "      <td>12179</td>\n",
       "      <td>12157</td>\n",
       "      <td>12148</td>\n",
       "      <td>12113</td>\n",
       "      <td>12795</td>\n",
       "      <td>12400</td>\n",
       "      <td>11585</td>\n",
       "      <td>12142</td>\n",
       "      <td>12795</td>\n",
       "      <td>12795</td>\n",
       "      <td>9436</td>\n",
       "    </tr>\n",
       "    <tr>\n",
       "      <th>unique</th>\n",
       "      <td>12795</td>\n",
       "      <td>9</td>\n",
       "      <td>470</td>\n",
       "      <td>815</td>\n",
       "      <td>602</td>\n",
       "      <td>2077</td>\n",
       "      <td>1663</td>\n",
       "      <td>999</td>\n",
       "      <td>1370</td>\n",
       "      <td>5933</td>\n",
       "      <td>497</td>\n",
       "      <td>630</td>\n",
       "      <td>401</td>\n",
       "      <td>5</td>\n",
       "      <td>14</td>\n",
       "      <td>4</td>\n",
       "    </tr>\n",
       "    <tr>\n",
       "      <th>top</th>\n",
       "      <td>1</td>\n",
       "      <td>4</td>\n",
       "      <td>6.8</td>\n",
       "      <td>0.24</td>\n",
       "      <td>0.3</td>\n",
       "      <td>1.4</td>\n",
       "      <td>0.044</td>\n",
       "      <td>29</td>\n",
       "      <td>125</td>\n",
       "      <td>0.9976</td>\n",
       "      <td>3.22</td>\n",
       "      <td>0.5</td>\n",
       "      <td>9.4</td>\n",
       "      <td>0</td>\n",
       "      <td>7</td>\n",
       "      <td>2</td>\n",
       "    </tr>\n",
       "    <tr>\n",
       "      <th>freq</th>\n",
       "      <td>1</td>\n",
       "      <td>3177</td>\n",
       "      <td>378</td>\n",
       "      <td>286</td>\n",
       "      <td>342</td>\n",
       "      <td>218</td>\n",
       "      <td>179</td>\n",
       "      <td>167</td>\n",
       "      <td>65</td>\n",
       "      <td>65</td>\n",
       "      <td>198</td>\n",
       "      <td>225</td>\n",
       "      <td>345</td>\n",
       "      <td>5617</td>\n",
       "      <td>4878</td>\n",
       "      <td>3570</td>\n",
       "    </tr>\n",
       "  </tbody>\n",
       "</table>\n",
       "</div>"
      ],
      "text/plain": [
       "       Unique ID Num Cases Fixed Acidity Volatile Acidity Citric Acid  \\\n",
       "count      12795     12795         12795            12795       12795   \n",
       "unique     12795         9           470              815         602   \n",
       "top            1         4           6.8             0.24         0.3   \n",
       "freq           1      3177           378              286         342   \n",
       "\n",
       "       Residual Sugar Chlorides Sulfur Dioxide Total Sulfur Dioxide Density  \\\n",
       "count           12179     12157          12148                12113   12795   \n",
       "unique           2077      1663            999                 1370    5933   \n",
       "top               1.4     0.044             29                  125  0.9976   \n",
       "freq              218       179            167                   65      65   \n",
       "\n",
       "           pH Sulphates Alcohal Content Label Appeal Total Acidity STARS  \n",
       "count   12400     11585           12142        12795         12795  9436  \n",
       "unique    497       630             401            5            14     4  \n",
       "top      3.22       0.5             9.4            0             7     2  \n",
       "freq      198       225             345         5617          4878  3570  "
      ]
     },
     "execution_count": 168,
     "metadata": {},
     "output_type": "execute_result"
    }
   ],
   "source": [
    "new_df.describe()"
   ]
  },
  {
   "cell_type": "code",
   "execution_count": 169,
   "metadata": {},
   "outputs": [
    {
     "name": "stdout",
     "output_type": "stream",
     "text": [
      "<class 'pandas.core.frame.DataFrame'>\n",
      "RangeIndex: 12795 entries, 1 to 12795\n",
      "Data columns (total 16 columns):\n",
      " #   Column                Non-Null Count  Dtype \n",
      "---  ------                --------------  ----- \n",
      " 0   Unique ID             12795 non-null  object\n",
      " 1   Num Cases             12795 non-null  object\n",
      " 2   Fixed Acidity         12795 non-null  object\n",
      " 3   Volatile Acidity      12795 non-null  object\n",
      " 4   Citric Acid           12795 non-null  object\n",
      " 5   Residual Sugar        12179 non-null  object\n",
      " 6   Chlorides             12157 non-null  object\n",
      " 7   Sulfur Dioxide        12148 non-null  object\n",
      " 8   Total Sulfur Dioxide  12113 non-null  object\n",
      " 9   Density               12795 non-null  object\n",
      " 10  pH                    12400 non-null  object\n",
      " 11  Sulphates             11585 non-null  object\n",
      " 12  Alcohal Content       12142 non-null  object\n",
      " 13  Label Appeal          12795 non-null  object\n",
      " 14  Total Acidity         12795 non-null  object\n",
      " 15  STARS                 9436 non-null   object\n",
      "dtypes: object(16)\n",
      "memory usage: 1.6+ MB\n"
     ]
    }
   ],
   "source": [
    "#generate informations on data set\n",
    "new_df.info()"
   ]
  },
  {
   "cell_type": "code",
   "execution_count": 170,
   "metadata": {},
   "outputs": [
    {
     "name": "stderr",
     "output_type": "stream",
     "text": [
      "C:\\Users\\User\\AppData\\Local\\Temp\\ipykernel_20000\\3247226091.py:3: FutureWarning: Dropping of nuisance columns in DataFrame reductions (with 'numeric_only=None') is deprecated; in a future version this will raise TypeError.  Select only valid columns before calling the reduction.\n",
      "  new_df.min()\n"
     ]
    },
    {
     "data": {
      "text/plain": [
       "Unique ID                 1\n",
       "Num Cases                 0\n",
       "Fixed Acidity          -0.1\n",
       "Volatile Acidity      -0.01\n",
       "Citric Acid           -0.01\n",
       "Density             0.88809\n",
       "Label Appeal             -1\n",
       "Total Acidity            10\n",
       "dtype: object"
      ]
     },
     "execution_count": 170,
     "metadata": {},
     "output_type": "execute_result"
    }
   ],
   "source": [
    "#gets minimum value for all attributes\n",
    "\n",
    "new_df.min() "
   ]
  },
  {
   "cell_type": "markdown",
   "metadata": {},
   "source": [
    "### Change Data Type\n",
    "\n",
    "Some of the most obvious data that should be integers are transformed into numeric. "
   ]
  },
  {
   "cell_type": "code",
   "execution_count": 172,
   "metadata": {},
   "outputs": [],
   "source": [
    "# converting the columns into numeric\n",
    "\n",
    "new_df['Residual Sugar'] = pd.to_numeric(new_df['Residual Sugar'])\n",
    "\n",
    "new_df['Num Cases'] = pd.to_numeric(new_df['Num Cases'])\n",
    "\n",
    "new_df['Fixed Acidity'] = pd.to_numeric(new_df['Fixed Acidity'])\n",
    "\n",
    "new_df['Density'] = pd.to_numeric(new_df['Density'])\n",
    "\n",
    "new_df['Volatile Acidity'] = pd.to_numeric(new_df['Volatile Acidity'])\n",
    "\n",
    "new_df['Label Appeal'] = pd.to_numeric(new_df['Label Appeal'])\n",
    "\n",
    "new_df['Citric Acid'] = pd.to_numeric(new_df['Citric Acid'])\n",
    "\n",
    "new_df['Density'] = pd.to_numeric(new_df['Density'])\n",
    "\n",
    "\n"
   ]
  },
  {
   "cell_type": "code",
   "execution_count": 173,
   "metadata": {},
   "outputs": [
    {
     "data": {
      "image/png": "[encoded data removed]",
      "text/plain": [
       "<Figure size 432x288 with 1 Axes>"
      ]
     },
     "metadata": {
      "needs_background": "light"
     },
     "output_type": "display_data"
    }
   ],
   "source": [
    "sns.barplot(x = 'STARS', y = 'Num Cases', data = new_df)\n",
    "plt.show()\n"
   ]
  },
  {
   "cell_type": "markdown",
   "metadata": {},
   "source": [
    "It appears that the highest rated wines are sold the most. "
   ]
  },
  {
   "cell_type": "code",
   "execution_count": 174,
   "metadata": {},
   "outputs": [
    {
     "data": {
      "image/png": "[encoded data removed]",
      "text/plain": [
       "<Figure size 432x288 with 1 Axes>"
      ]
     },
     "metadata": {
      "needs_background": "light"
     },
     "output_type": "display_data"
    }
   ],
   "source": [
    "sns.barplot(x = 'Label Appeal', y = 'Num Cases', data = new_df)\n",
    "plt.show()"
   ]
  },
  {
   "cell_type": "markdown",
   "metadata": {},
   "source": [
    "It shows that the marketing of wines and their bottle appearence impacts the sales of those wines. "
   ]
  },
  {
   "cell_type": "code",
   "execution_count": 175,
   "metadata": {},
   "outputs": [
    {
     "data": {
      "image/png": "[encoded data removed]",
      "text/plain": [
       "<Figure size 432x288 with 1 Axes>"
      ]
     },
     "metadata": {
      "needs_background": "light"
     },
     "output_type": "display_data"
    }
   ],
   "source": [
    "sns.barplot(x = 'STARS', y = 'Residual Sugar', data = new_df)\n",
    "plt.show()"
   ]
  },
  {
   "cell_type": "markdown",
   "metadata": {},
   "source": [
    "Sugar level on wines seems to have not much impact on their ratings. "
   ]
  },
  {
   "cell_type": "code",
   "execution_count": 176,
   "metadata": {},
   "outputs": [
    {
     "data": {
      "image/png": "[encoded data removed]",
      "text/plain": [
       "<Figure size 432x288 with 1 Axes>"
      ]
     },
     "metadata": {
      "needs_background": "light"
     },
     "output_type": "display_data"
    }
   ],
   "source": [
    "sns.barplot(x = 'STARS', y = 'Density', data = new_df)\n",
    "plt.show()"
   ]
  },
  {
   "cell_type": "markdown",
   "metadata": {},
   "source": [
    "Based on the bar plot above, the ratings of the wines have nothing to do with the wines density. "
   ]
  },
  {
   "cell_type": "markdown",
   "metadata": {},
   "source": [
    "### Box Plot:"
   ]
  },
  {
   "cell_type": "code",
   "execution_count": 177,
   "metadata": {},
   "outputs": [
    {
     "data": {
      "text/plain": [
       "<AxesSubplot:>"
      ]
     },
     "execution_count": 177,
     "metadata": {},
     "output_type": "execute_result"
    },
    {
     "data": {
      "image/png": "[encoded data removed]",
      "text/plain": [
       "<Figure size 432x288 with 1 Axes>"
      ]
     },
     "metadata": {
      "needs_background": "light"
     },
     "output_type": "display_data"
    }
   ],
   "source": [
    "# for Numeric Data, box plot\n",
    "# \n",
    "\n",
    "numericDataColumns = ['Num Cases', 'Label Appeal', 'STARS','Density']\n",
    "vals = new_df[numericDataColumns].copy()\n",
    "\n",
    "from sklearn.preprocessing import StandardScaler\n",
    "\n",
    "scaler = StandardScaler()\n",
    "vals_scaled = scaler.fit_transform(vals)\n",
    "vals_scaled = pd.DataFrame(vals_scaled, columns=numericDataColumns)\n",
    "\n",
    "vals_scaled.plot.box(grid='True')"
   ]
  },
  {
   "cell_type": "code",
   "execution_count": 178,
   "metadata": {},
   "outputs": [
    {
     "data": {
      "text/plain": [
       "<AxesSubplot:title={'center':'Num Cases'}, xlabel='Label Appeal'>"
      ]
     },
     "execution_count": 178,
     "metadata": {},
     "output_type": "execute_result"
    },
    {
     "data": {
      "image/png": "[encoded data removed]",
      "text/plain": [
       "<Figure size 432x288 with 1 Axes>"
      ]
     },
     "metadata": {
      "needs_background": "light"
     },
     "output_type": "display_data"
    }
   ],
   "source": [
    "#Using both Matplolib and Seaborn, make boxplots of the diamond price for each distinct cut value and\n",
    "#discuss any conclusions you can draw from the appearance of the boxplots.\n",
    "\n",
    "new_df.boxplot(column=\"Num Cases\", by= \"Label Appeal\")\n",
    "\n"
   ]
  },
  {
   "cell_type": "code",
   "execution_count": 179,
   "metadata": {},
   "outputs": [
    {
     "data": {
      "text/plain": [
       "<AxesSubplot:xlabel='STARS', ylabel='Num Cases'>"
      ]
     },
     "execution_count": 179,
     "metadata": {},
     "output_type": "execute_result"
    },
    {
     "data": {
      "image/png": "[encoded data removed]",
      "text/plain": [
       "<Figure size 432x288 with 1 Axes>"
      ]
     },
     "metadata": {
      "needs_background": "light"
     },
     "output_type": "display_data"
    }
   ],
   "source": [
    "#doing the same as above in seaborn\n",
    "sns.boxplot(y ='Num Cases', x ='STARS',data = new_df )"
   ]
  },
  {
   "cell_type": "code",
   "execution_count": 180,
   "metadata": {},
   "outputs": [
    {
     "data": {
      "image/png": "[encoded data removed]",
      "text/plain": [
       "<Figure size 432x288 with 1 Axes>"
      ]
     },
     "metadata": {
      "needs_background": "light"
     },
     "output_type": "display_data"
    }
   ],
   "source": [
    "new_df['STARS'].hist()\n",
    "plt.show()"
   ]
  },
  {
   "cell_type": "code",
   "execution_count": 181,
   "metadata": {},
   "outputs": [
    {
     "data": {
      "text/plain": [
       "<AxesSubplot:xlabel='STARS', ylabel='Count'>"
      ]
     },
     "execution_count": 181,
     "metadata": {},
     "output_type": "execute_result"
    },
    {
     "data": {
      "image/png": "[encoded data removed]",
      "text/plain": [
       "<Figure size 432x288 with 1 Axes>"
      ]
     },
     "metadata": {
      "needs_background": "light"
     },
     "output_type": "display_data"
    }
   ],
   "source": [
    "sns.histplot(new_df['STARS'])"
   ]
  },
  {
   "cell_type": "markdown",
   "metadata": {},
   "source": [
    "Two star wines are sold the most. If we had price data, we could compare and see if pricing of higher rating wines played role in volume sold."
   ]
  },
  {
   "cell_type": "markdown",
   "metadata": {},
   "source": [
    "### Check for null values: "
   ]
  },
  {
   "cell_type": "code",
   "execution_count": 183,
   "metadata": {},
   "outputs": [
    {
     "data": {
      "text/plain": [
       "Index(['Residual Sugar', 'Chlorides', 'Sulfur Dioxide', 'Total Sulfur Dioxide',\n",
       "       'pH', 'Sulphates', 'Alcohal Content', 'STARS'],\n",
       "      dtype='object')"
      ]
     },
     "execution_count": 183,
     "metadata": {},
     "output_type": "execute_result"
    }
   ],
   "source": [
    "# checking for null values\n",
    "\n",
    "new_df.columns[new_df.isnull().any()]\n",
    "\n",
    "# new_df.isnull.sum()"
   ]
  },
  {
   "cell_type": "markdown",
   "metadata": {},
   "source": [
    "There are a lot of attributes that contains null values. Before we decide what to do with NaN values, it is important to find out how many such values are there in each of those column. "
   ]
  },
  {
   "cell_type": "code",
   "execution_count": 184,
   "metadata": {},
   "outputs": [
    {
     "data": {
      "text/plain": [
       "616"
      ]
     },
     "execution_count": 184,
     "metadata": {},
     "output_type": "execute_result"
    }
   ],
   "source": [
    "# how many 'NaN' values are in the ___________ column?\n",
    "\n",
    "new_df['Residual Sugar'].isna().sum()"
   ]
  },
  {
   "cell_type": "code",
   "execution_count": 185,
   "metadata": {},
   "outputs": [
    {
     "data": {
      "text/plain": [
       "638"
      ]
     },
     "execution_count": 185,
     "metadata": {},
     "output_type": "execute_result"
    }
   ],
   "source": [
    "# how many 'NaN' values are in the ___________ column?\n",
    "\n",
    "new_df['Chlorides'].isna().sum()"
   ]
  },
  {
   "cell_type": "code",
   "execution_count": 186,
   "metadata": {},
   "outputs": [
    {
     "data": {
      "text/plain": [
       "647"
      ]
     },
     "execution_count": 186,
     "metadata": {},
     "output_type": "execute_result"
    }
   ],
   "source": [
    "# how many 'NaN' values are in the ___________ column?\n",
    "\n",
    "new_df['Sulfur Dioxide'].isna().sum()\n"
   ]
  },
  {
   "cell_type": "code",
   "execution_count": 187,
   "metadata": {},
   "outputs": [
    {
     "data": {
      "text/plain": [
       "682"
      ]
     },
     "execution_count": 187,
     "metadata": {},
     "output_type": "execute_result"
    }
   ],
   "source": [
    "# how many 'NaN' values are in the ___________ column?\n",
    "\n",
    "new_df['Total Sulfur Dioxide'].isna().sum()\n"
   ]
  },
  {
   "cell_type": "code",
   "execution_count": 188,
   "metadata": {},
   "outputs": [
    {
     "data": {
      "text/plain": [
       "395"
      ]
     },
     "execution_count": 188,
     "metadata": {},
     "output_type": "execute_result"
    }
   ],
   "source": [
    "# how many 'NaN' values are in the ___________ column?\n",
    "\n",
    "new_df['pH'].isna().sum()"
   ]
  },
  {
   "cell_type": "code",
   "execution_count": 189,
   "metadata": {},
   "outputs": [
    {
     "data": {
      "text/plain": [
       "1210"
      ]
     },
     "execution_count": 189,
     "metadata": {},
     "output_type": "execute_result"
    }
   ],
   "source": [
    "# how many 'NaN' values are in the ___________ column?\n",
    "\n",
    "new_df.Sulphates.isna().sum()\n"
   ]
  },
  {
   "cell_type": "code",
   "execution_count": 190,
   "metadata": {},
   "outputs": [
    {
     "data": {
      "text/plain": [
       "653"
      ]
     },
     "execution_count": 190,
     "metadata": {},
     "output_type": "execute_result"
    }
   ],
   "source": [
    "# how many 'NaN' values are in the ___________ column?\n",
    "\n",
    "new_df['Alcohal Content'].isna().sum()"
   ]
  },
  {
   "cell_type": "code",
   "execution_count": 191,
   "metadata": {},
   "outputs": [
    {
     "data": {
      "text/plain": [
       "3359"
      ]
     },
     "execution_count": 191,
     "metadata": {},
     "output_type": "execute_result"
    }
   ],
   "source": [
    "# how many 'NaN' values are in the ___________ column?\n",
    "\n",
    "new_df['STARS'].isna().sum()"
   ]
  },
  {
   "cell_type": "markdown",
   "metadata": {},
   "source": [
    "### 4. Using your Python skills, perform appropriate data preparation tasks relative to the data integrity + usability issues you identified via your EDA work. Describe the ways in which you have transformed / prepared the data for use within a machine learning algorithm, e.g., have you deleted any observations? Used imputation to fill missing data values? Created any new variables? Transformed data via mathematical transforms (e.g., Box-Cox, logarithms, etc.) or binning? etc. Be sure to explain your justification for each adjustment you have made to the data. "
   ]
  },
  {
   "cell_type": "markdown",
   "metadata": {},
   "source": [
    "### Dealing with NaNs \n",
    "\n",
    "EDA has shown that there are a lot of null values in those attributes. We have to get rid of those values using any one of our imputation technique.\n",
    "\n",
    "STARS has the highest number of NaN values. There are few options such as to replace the STARS with some fixed value, or to assign some values before or after that rows. We could also assign some mean, or median values. However, STAR is a very sensitive attribute, replacing STAR with any random value will mislead the analytics. So, it is better to remove all the NaN values in STAR column. \n",
    "\n",
    "The columns that have more than 5% missing variables are going to be dropped. \n",
    "\n",
    "For the rest of the attributes, we can assign median values."
   ]
  },
  {
   "cell_type": "code",
   "execution_count": 192,
   "metadata": {},
   "outputs": [
    {
     "data": {
      "text/html": [
       "<div>\n",
       "<style scoped>\n",
       "    .dataframe tbody tr th:only-of-type {\n",
       "        vertical-align: middle;\n",
       "    }\n",
       "\n",
       "    .dataframe tbody tr th {\n",
       "        vertical-align: top;\n",
       "    }\n",
       "\n",
       "    .dataframe thead th {\n",
       "        text-align: right;\n",
       "    }\n",
       "</style>\n",
       "<table border=\"1\" class=\"dataframe\">\n",
       "  <thead>\n",
       "    <tr style=\"text-align: right;\">\n",
       "      <th></th>\n",
       "      <th>Unique ID</th>\n",
       "      <th>Num Cases</th>\n",
       "      <th>Fixed Acidity</th>\n",
       "      <th>Volatile Acidity</th>\n",
       "      <th>Citric Acid</th>\n",
       "      <th>Residual Sugar</th>\n",
       "      <th>Chlorides</th>\n",
       "      <th>Sulfur Dioxide</th>\n",
       "      <th>Total Sulfur Dioxide</th>\n",
       "      <th>Density</th>\n",
       "      <th>pH</th>\n",
       "      <th>Sulphates</th>\n",
       "      <th>Alcohal Content</th>\n",
       "      <th>Label Appeal</th>\n",
       "      <th>Total Acidity</th>\n",
       "      <th>STARS</th>\n",
       "    </tr>\n",
       "  </thead>\n",
       "  <tbody>\n",
       "    <tr>\n",
       "      <th>1</th>\n",
       "      <td>1</td>\n",
       "      <td>3</td>\n",
       "      <td>3.2</td>\n",
       "      <td>1.160</td>\n",
       "      <td>-0.98</td>\n",
       "      <td>54.2</td>\n",
       "      <td>-0.567</td>\n",
       "      <td>NaN</td>\n",
       "      <td>268</td>\n",
       "      <td>0.99280</td>\n",
       "      <td>3.33</td>\n",
       "      <td>-0.59</td>\n",
       "      <td>9.9</td>\n",
       "      <td>0</td>\n",
       "      <td>8</td>\n",
       "      <td>2</td>\n",
       "    </tr>\n",
       "    <tr>\n",
       "      <th>2</th>\n",
       "      <td>2</td>\n",
       "      <td>3</td>\n",
       "      <td>4.5</td>\n",
       "      <td>0.160</td>\n",
       "      <td>-0.81</td>\n",
       "      <td>26.1</td>\n",
       "      <td>-0.425</td>\n",
       "      <td>15</td>\n",
       "      <td>-327</td>\n",
       "      <td>1.02792</td>\n",
       "      <td>3.38</td>\n",
       "      <td>0.7</td>\n",
       "      <td>NaN</td>\n",
       "      <td>-1</td>\n",
       "      <td>7</td>\n",
       "      <td>3</td>\n",
       "    </tr>\n",
       "    <tr>\n",
       "      <th>3</th>\n",
       "      <td>4</td>\n",
       "      <td>5</td>\n",
       "      <td>7.1</td>\n",
       "      <td>2.640</td>\n",
       "      <td>-0.88</td>\n",
       "      <td>14.8</td>\n",
       "      <td>0.037</td>\n",
       "      <td>214</td>\n",
       "      <td>142</td>\n",
       "      <td>0.99518</td>\n",
       "      <td>3.12</td>\n",
       "      <td>0.48</td>\n",
       "      <td>22</td>\n",
       "      <td>-1</td>\n",
       "      <td>8</td>\n",
       "      <td>3</td>\n",
       "    </tr>\n",
       "    <tr>\n",
       "      <th>4</th>\n",
       "      <td>5</td>\n",
       "      <td>3</td>\n",
       "      <td>5.7</td>\n",
       "      <td>0.385</td>\n",
       "      <td>0.04</td>\n",
       "      <td>18.8</td>\n",
       "      <td>-0.425</td>\n",
       "      <td>22</td>\n",
       "      <td>115</td>\n",
       "      <td>0.99640</td>\n",
       "      <td>2.24</td>\n",
       "      <td>1.83</td>\n",
       "      <td>6.2</td>\n",
       "      <td>-1</td>\n",
       "      <td>6</td>\n",
       "      <td>1</td>\n",
       "    </tr>\n",
       "    <tr>\n",
       "      <th>5</th>\n",
       "      <td>6</td>\n",
       "      <td>4</td>\n",
       "      <td>8.0</td>\n",
       "      <td>0.330</td>\n",
       "      <td>-1.26</td>\n",
       "      <td>9.4</td>\n",
       "      <td>NaN</td>\n",
       "      <td>-167</td>\n",
       "      <td>108</td>\n",
       "      <td>0.99457</td>\n",
       "      <td>3.12</td>\n",
       "      <td>1.77</td>\n",
       "      <td>13.7</td>\n",
       "      <td>0</td>\n",
       "      <td>9</td>\n",
       "      <td>2</td>\n",
       "    </tr>\n",
       "  </tbody>\n",
       "</table>\n",
       "</div>"
      ],
      "text/plain": [
       "  Unique ID  Num Cases  Fixed Acidity  Volatile Acidity  Citric Acid  \\\n",
       "1         1          3            3.2             1.160        -0.98   \n",
       "2         2          3            4.5             0.160        -0.81   \n",
       "3         4          5            7.1             2.640        -0.88   \n",
       "4         5          3            5.7             0.385         0.04   \n",
       "5         6          4            8.0             0.330        -1.26   \n",
       "\n",
       "   Residual Sugar Chlorides Sulfur Dioxide Total Sulfur Dioxide  Density  \\\n",
       "1            54.2    -0.567            NaN                  268  0.99280   \n",
       "2            26.1    -0.425             15                 -327  1.02792   \n",
       "3            14.8     0.037            214                  142  0.99518   \n",
       "4            18.8    -0.425             22                  115  0.99640   \n",
       "5             9.4       NaN           -167                  108  0.99457   \n",
       "\n",
       "     pH Sulphates Alcohal Content  Label Appeal Total Acidity STARS  \n",
       "1  3.33     -0.59             9.9             0             8     2  \n",
       "2  3.38       0.7             NaN            -1             7     3  \n",
       "3  3.12      0.48              22            -1             8     3  \n",
       "4  2.24      1.83             6.2            -1             6     1  \n",
       "5  3.12      1.77            13.7             0             9     2  "
      ]
     },
     "execution_count": 192,
     "metadata": {},
     "output_type": "execute_result"
    }
   ],
   "source": [
    "thres_df = new_df.copy()\n",
    "thres_df.head()\n"
   ]
  },
  {
   "cell_type": "code",
   "execution_count": 193,
   "metadata": {},
   "outputs": [],
   "source": [
    "# convert the columns into numeric\n",
    "\n",
    "thres_df = thres_df.apply (pd.to_numeric, errors='coerce')"
   ]
  },
  {
   "cell_type": "code",
   "execution_count": 194,
   "metadata": {},
   "outputs": [
    {
     "name": "stdout",
     "output_type": "stream",
     "text": [
      "       Unique ID  Num Cases  Fixed Acidity  Volatile Acidity  Citric Acid  \\\n",
      "1              1          3            3.2             1.160        -0.98   \n",
      "2              2          3            4.5             0.160        -0.81   \n",
      "3              4          5            7.1             2.640        -0.88   \n",
      "4              5          3            5.7             0.385         0.04   \n",
      "5              6          4            8.0             0.330        -1.26   \n",
      "...          ...        ...            ...               ...          ...   \n",
      "12790      16119          4            4.4             0.220         0.29   \n",
      "12792      16123          5            8.9             0.470         0.29   \n",
      "12793      16127          4            6.0             0.170        -1.10   \n",
      "12794      16128          3            7.7             0.320         0.12   \n",
      "12795      16129          4            5.2            -0.040        -0.81   \n",
      "\n",
      "       Residual Sugar  Chlorides  Sulfur Dioxide  Total Sulfur Dioxide  \\\n",
      "1                54.2     -0.567             NaN                 268.0   \n",
      "2                26.1     -0.425            15.0                -327.0   \n",
      "3                14.8      0.037           214.0                 142.0   \n",
      "4                18.8     -0.425            22.0                 115.0   \n",
      "5                 9.4        NaN          -167.0                 108.0   \n",
      "...               ...        ...             ...                   ...   \n",
      "12790             1.9      0.525            30.0                 391.0   \n",
      "12792            84.9      0.259            54.0                   NaN   \n",
      "12793            37.0      0.078            25.0                 108.0   \n",
      "12794             NaN      0.029            26.0                 274.0   \n",
      "12795            52.7        NaN          -106.0                 242.0   \n",
      "\n",
      "       Density    pH  Sulphates  Alcohal Content  Label Appeal  Total Acidity  \\\n",
      "1      0.99280  3.33      -0.59              9.9             0              8   \n",
      "2      1.02792  3.38       0.70              NaN            -1              7   \n",
      "3      0.99518  3.12       0.48             22.0            -1              8   \n",
      "4      0.99640  2.24       1.83              6.2            -1              6   \n",
      "5      0.99457  3.12       1.77             13.7             0              9   \n",
      "...        ...   ...        ...              ...           ...            ...   \n",
      "12790  0.99710  3.45       0.59              9.5             0              8   \n",
      "12792  0.99518  4.46      -1.20              NaN            -1              8   \n",
      "12793  0.99076  3.25        NaN             12.3             0              6   \n",
      "12794  0.99060  3.97       0.62             11.0            -1              6   \n",
      "12795  0.99454  3.94      -0.12              9.9             0              7   \n",
      "\n",
      "       STARS  \n",
      "1        2.0  \n",
      "2        3.0  \n",
      "3        3.0  \n",
      "4        1.0  \n",
      "5        2.0  \n",
      "...      ...  \n",
      "12790    1.0  \n",
      "12792    2.0  \n",
      "12793    2.0  \n",
      "12794    2.0  \n",
      "12795    2.0  \n",
      "\n",
      "[9436 rows x 16 columns]\n"
     ]
    }
   ],
   "source": [
    "# taking only the rows where STARS is not NaN\n",
    "\n",
    "thres_df = thres_df[thres_df['STARS'].notna()]\n",
    "\n",
    "print(thres_df)\n"
   ]
  },
  {
   "cell_type": "markdown",
   "metadata": {},
   "source": [
    "We have just taken the data that have numeric values and assigned them to our data frame dropped_df. "
   ]
  },
  {
   "cell_type": "code",
   "execution_count": 195,
   "metadata": {},
   "outputs": [
    {
     "data": {
      "text/plain": [
       "0"
      ]
     },
     "execution_count": 195,
     "metadata": {},
     "output_type": "execute_result"
    }
   ],
   "source": [
    "# how many 'NaN' values are in the ___________ column?\n",
    "\n",
    "thres_df['STARS'].isna().sum()"
   ]
  },
  {
   "cell_type": "markdown",
   "metadata": {},
   "source": [
    "Now drop attributes that have more than 5% missing datas. "
   ]
  },
  {
   "cell_type": "code",
   "execution_count": 196,
   "metadata": {},
   "outputs": [],
   "source": [
    "# make copy\n",
    "\n",
    "new1_df = thres_df.copy()\n"
   ]
  },
  {
   "cell_type": "code",
   "execution_count": 197,
   "metadata": {},
   "outputs": [
    {
     "name": "stdout",
     "output_type": "stream",
     "text": [
      "       Unique ID  Num Cases  Fixed Acidity  Volatile Acidity  Citric Acid  \\\n",
      "1              1          3            3.2             1.160        -0.98   \n",
      "2              2          3            4.5             0.160        -0.81   \n",
      "3              4          5            7.1             2.640        -0.88   \n",
      "4              5          3            5.7             0.385         0.04   \n",
      "5              6          4            8.0             0.330        -1.26   \n",
      "...          ...        ...            ...               ...          ...   \n",
      "12790      16119          4            4.4             0.220         0.29   \n",
      "12792      16123          5            8.9             0.470         0.29   \n",
      "12793      16127          4            6.0             0.170        -1.10   \n",
      "12794      16128          3            7.7             0.320         0.12   \n",
      "12795      16129          4            5.2            -0.040        -0.81   \n",
      "\n",
      "       Residual Sugar  Chlorides  Sulfur Dioxide  Density    pH  Label Appeal  \\\n",
      "1                54.2     -0.567             NaN  0.99280  3.33             0   \n",
      "2                26.1     -0.425            15.0  1.02792  3.38            -1   \n",
      "3                14.8      0.037           214.0  0.99518  3.12            -1   \n",
      "4                18.8     -0.425            22.0  0.99640  2.24            -1   \n",
      "5                 9.4        NaN          -167.0  0.99457  3.12             0   \n",
      "...               ...        ...             ...      ...   ...           ...   \n",
      "12790             1.9      0.525            30.0  0.99710  3.45             0   \n",
      "12792            84.9      0.259            54.0  0.99518  4.46            -1   \n",
      "12793            37.0      0.078            25.0  0.99076  3.25             0   \n",
      "12794             NaN      0.029            26.0  0.99060  3.97            -1   \n",
      "12795            52.7        NaN          -106.0  0.99454  3.94             0   \n",
      "\n",
      "       Total Acidity  STARS  \n",
      "1                  8    2.0  \n",
      "2                  7    3.0  \n",
      "3                  8    3.0  \n",
      "4                  6    1.0  \n",
      "5                  9    2.0  \n",
      "...              ...    ...  \n",
      "12790              8    1.0  \n",
      "12792              8    2.0  \n",
      "12793              6    2.0  \n",
      "12794              6    2.0  \n",
      "12795              7    2.0  \n",
      "\n",
      "[9436 rows x 13 columns]\n"
     ]
    }
   ],
   "source": [
    "# drop the column with more than 5% NaN values\n",
    "\n",
    "new1_df.dropna(thresh = int(new1_df.shape[0]*0.95), axis = 1, inplace = True)\n",
    "print(new1_df)"
   ]
  },
  {
   "cell_type": "markdown",
   "metadata": {},
   "source": [
    "Replace remaning NaN values with the median values. "
   ]
  },
  {
   "cell_type": "code",
   "execution_count": 198,
   "metadata": {},
   "outputs": [
    {
     "name": "stderr",
     "output_type": "stream",
     "text": [
      "C:\\Users\\User\\AppData\\Local\\Temp\\ipykernel_20000\\510388831.py:1: FutureWarning: Dropping of nuisance columns in DataFrame reductions (with 'numeric_only=None') is deprecated; in a future version this will raise TypeError.  Select only valid columns before calling the reduction.\n",
      "  new1_df = new1_df.fillna(df.median())\n"
     ]
    }
   ],
   "source": [
    "new1_df = new1_df.fillna(df.median())"
   ]
  },
  {
   "cell_type": "code",
   "execution_count": 146,
   "metadata": {},
   "outputs": [
    {
     "data": {
      "text/plain": [
       "1        54.2\n",
       "2        26.1\n",
       "3        14.8\n",
       "4        18.8\n",
       "5         9.4\n",
       "         ... \n",
       "12790     1.9\n",
       "12792    84.9\n",
       "12793    37.0\n",
       "12794     NaN\n",
       "12795    52.7\n",
       "Name: Residual Sugar, Length: 9436, dtype: float64"
      ]
     },
     "execution_count": 146,
     "metadata": {},
     "output_type": "execute_result"
    }
   ],
   "source": [
    "new_df['Residual Sugar']"
   ]
  },
  {
   "cell_type": "code",
   "execution_count": 199,
   "metadata": {},
   "outputs": [],
   "source": [
    "# filling NaN values with median value\n",
    "\n",
    "new1_df['Residual Sugar'] = new1_df['Residual Sugar'].fillna(new1_df['Residual Sugar'].median())\n",
    "\n",
    "new1_df['Chlorides'] = new1_df['Chlorides'].fillna(new1_df['Chlorides'].median())\n",
    "\n",
    "new1_df['Sulfur Dioxide'] = new1_df['Sulfur Dioxide'].fillna(new1_df['Sulfur Dioxide'].median())\n",
    "\n",
    "new1_df['pH'] = new1_df['pH'].fillna(new1_df['pH'].median())\n",
    "\n",
    "\n"
   ]
  },
  {
   "cell_type": "code",
   "execution_count": 200,
   "metadata": {},
   "outputs": [
    {
     "data": {
      "text/plain": [
       "Index([], dtype='object')"
      ]
     },
     "execution_count": 200,
     "metadata": {},
     "output_type": "execute_result"
    }
   ],
   "source": [
    "# checking for null values\n",
    "\n",
    "new1_df.columns[new1_df.isnull().any()]"
   ]
  },
  {
   "cell_type": "code",
   "execution_count": 201,
   "metadata": {},
   "outputs": [
    {
     "data": {
      "text/html": [
       "<div>\n",
       "<style scoped>\n",
       "    .dataframe tbody tr th:only-of-type {\n",
       "        vertical-align: middle;\n",
       "    }\n",
       "\n",
       "    .dataframe tbody tr th {\n",
       "        vertical-align: top;\n",
       "    }\n",
       "\n",
       "    .dataframe thead th {\n",
       "        text-align: right;\n",
       "    }\n",
       "</style>\n",
       "<table border=\"1\" class=\"dataframe\">\n",
       "  <thead>\n",
       "    <tr style=\"text-align: right;\">\n",
       "      <th></th>\n",
       "      <th>Unique ID</th>\n",
       "      <th>Num Cases</th>\n",
       "      <th>Fixed Acidity</th>\n",
       "      <th>Volatile Acidity</th>\n",
       "      <th>Citric Acid</th>\n",
       "      <th>Residual Sugar</th>\n",
       "      <th>Chlorides</th>\n",
       "      <th>Sulfur Dioxide</th>\n",
       "      <th>Density</th>\n",
       "      <th>pH</th>\n",
       "      <th>Label Appeal</th>\n",
       "      <th>Total Acidity</th>\n",
       "      <th>STARS</th>\n",
       "    </tr>\n",
       "  </thead>\n",
       "  <tbody>\n",
       "    <tr>\n",
       "      <th>count</th>\n",
       "      <td>9436.000000</td>\n",
       "      <td>9436.000000</td>\n",
       "      <td>9436.000000</td>\n",
       "      <td>9436.000000</td>\n",
       "      <td>9436.000000</td>\n",
       "      <td>9436.000000</td>\n",
       "      <td>9436.000000</td>\n",
       "      <td>9436.000000</td>\n",
       "      <td>9436.000000</td>\n",
       "      <td>9436.000000</td>\n",
       "      <td>9436.000000</td>\n",
       "      <td>9436.000000</td>\n",
       "      <td>9436.000000</td>\n",
       "    </tr>\n",
       "    <tr>\n",
       "      <th>mean</th>\n",
       "      <td>8036.988872</td>\n",
       "      <td>3.685990</td>\n",
       "      <td>6.917820</td>\n",
       "      <td>0.297506</td>\n",
       "      <td>0.313923</td>\n",
       "      <td>5.577914</td>\n",
       "      <td>0.049088</td>\n",
       "      <td>33.489879</td>\n",
       "      <td>0.993862</td>\n",
       "      <td>3.202159</td>\n",
       "      <td>0.046948</td>\n",
       "      <td>7.639360</td>\n",
       "      <td>2.041755</td>\n",
       "    </tr>\n",
       "    <tr>\n",
       "      <th>std</th>\n",
       "      <td>4625.591814</td>\n",
       "      <td>1.552357</td>\n",
       "      <td>6.281915</td>\n",
       "      <td>0.780265</td>\n",
       "      <td>0.861098</td>\n",
       "      <td>32.837441</td>\n",
       "      <td>0.308310</td>\n",
       "      <td>145.328062</td>\n",
       "      <td>0.026547</td>\n",
       "      <td>0.666873</td>\n",
       "      <td>0.877451</td>\n",
       "      <td>1.178852</td>\n",
       "      <td>0.902540</td>\n",
       "    </tr>\n",
       "    <tr>\n",
       "      <th>min</th>\n",
       "      <td>1.000000</td>\n",
       "      <td>0.000000</td>\n",
       "      <td>-18.100000</td>\n",
       "      <td>-2.750000</td>\n",
       "      <td>-3.160000</td>\n",
       "      <td>-127.800000</td>\n",
       "      <td>-1.171000</td>\n",
       "      <td>-555.000000</td>\n",
       "      <td>0.888090</td>\n",
       "      <td>0.480000</td>\n",
       "      <td>-2.000000</td>\n",
       "      <td>4.000000</td>\n",
       "      <td>1.000000</td>\n",
       "    </tr>\n",
       "    <tr>\n",
       "      <th>25%</th>\n",
       "      <td>4040.500000</td>\n",
       "      <td>3.000000</td>\n",
       "      <td>5.100000</td>\n",
       "      <td>0.110000</td>\n",
       "      <td>0.050000</td>\n",
       "      <td>0.900000</td>\n",
       "      <td>-0.004000</td>\n",
       "      <td>6.000000</td>\n",
       "      <td>0.987138</td>\n",
       "      <td>2.970000</td>\n",
       "      <td>-1.000000</td>\n",
       "      <td>7.000000</td>\n",
       "      <td>1.000000</td>\n",
       "    </tr>\n",
       "    <tr>\n",
       "      <th>50%</th>\n",
       "      <td>8030.000000</td>\n",
       "      <td>4.000000</td>\n",
       "      <td>6.900000</td>\n",
       "      <td>0.270000</td>\n",
       "      <td>0.310000</td>\n",
       "      <td>4.600000</td>\n",
       "      <td>0.044000</td>\n",
       "      <td>32.000000</td>\n",
       "      <td>0.994100</td>\n",
       "      <td>3.190000</td>\n",
       "      <td>0.000000</td>\n",
       "      <td>7.000000</td>\n",
       "      <td>2.000000</td>\n",
       "    </tr>\n",
       "    <tr>\n",
       "      <th>75%</th>\n",
       "      <td>12020.250000</td>\n",
       "      <td>5.000000</td>\n",
       "      <td>9.200000</td>\n",
       "      <td>0.600000</td>\n",
       "      <td>0.580000</td>\n",
       "      <td>15.000000</td>\n",
       "      <td>0.118250</td>\n",
       "      <td>68.000000</td>\n",
       "      <td>1.000337</td>\n",
       "      <td>3.440000</td>\n",
       "      <td>1.000000</td>\n",
       "      <td>8.000000</td>\n",
       "      <td>3.000000</td>\n",
       "    </tr>\n",
       "    <tr>\n",
       "      <th>max</th>\n",
       "      <td>16129.000000</td>\n",
       "      <td>8.000000</td>\n",
       "      <td>32.500000</td>\n",
       "      <td>3.680000</td>\n",
       "      <td>3.770000</td>\n",
       "      <td>141.150000</td>\n",
       "      <td>1.270000</td>\n",
       "      <td>622.000000</td>\n",
       "      <td>1.099240</td>\n",
       "      <td>6.050000</td>\n",
       "      <td>2.000000</td>\n",
       "      <td>17.000000</td>\n",
       "      <td>4.000000</td>\n",
       "    </tr>\n",
       "  </tbody>\n",
       "</table>\n",
       "</div>"
      ],
      "text/plain": [
       "          Unique ID    Num Cases  Fixed Acidity  Volatile Acidity  \\\n",
       "count   9436.000000  9436.000000    9436.000000       9436.000000   \n",
       "mean    8036.988872     3.685990       6.917820          0.297506   \n",
       "std     4625.591814     1.552357       6.281915          0.780265   \n",
       "min        1.000000     0.000000     -18.100000         -2.750000   \n",
       "25%     4040.500000     3.000000       5.100000          0.110000   \n",
       "50%     8030.000000     4.000000       6.900000          0.270000   \n",
       "75%    12020.250000     5.000000       9.200000          0.600000   \n",
       "max    16129.000000     8.000000      32.500000          3.680000   \n",
       "\n",
       "       Citric Acid  Residual Sugar    Chlorides  Sulfur Dioxide      Density  \\\n",
       "count  9436.000000     9436.000000  9436.000000     9436.000000  9436.000000   \n",
       "mean      0.313923        5.577914     0.049088       33.489879     0.993862   \n",
       "std       0.861098       32.837441     0.308310      145.328062     0.026547   \n",
       "min      -3.160000     -127.800000    -1.171000     -555.000000     0.888090   \n",
       "25%       0.050000        0.900000    -0.004000        6.000000     0.987138   \n",
       "50%       0.310000        4.600000     0.044000       32.000000     0.994100   \n",
       "75%       0.580000       15.000000     0.118250       68.000000     1.000337   \n",
       "max       3.770000      141.150000     1.270000      622.000000     1.099240   \n",
       "\n",
       "                pH  Label Appeal  Total Acidity        STARS  \n",
       "count  9436.000000   9436.000000    9436.000000  9436.000000  \n",
       "mean      3.202159      0.046948       7.639360     2.041755  \n",
       "std       0.666873      0.877451       1.178852     0.902540  \n",
       "min       0.480000     -2.000000       4.000000     1.000000  \n",
       "25%       2.970000     -1.000000       7.000000     1.000000  \n",
       "50%       3.190000      0.000000       7.000000     2.000000  \n",
       "75%       3.440000      1.000000       8.000000     3.000000  \n",
       "max       6.050000      2.000000      17.000000     4.000000  "
      ]
     },
     "execution_count": 201,
     "metadata": {},
     "output_type": "execute_result"
    }
   ],
   "source": [
    "new1_df.describe()"
   ]
  },
  {
   "cell_type": "markdown",
   "metadata": {},
   "source": [
    "Now that we have prepared our data for machine learning algorithms, this data now makes more sense than it did in the beginning. \n",
    "\n",
    "We have 13 columns out of 16 in total previously. \n",
    "\n"
   ]
  },
  {
   "cell_type": "markdown",
   "metadata": {},
   "source": [
    "### Applying PCA to further narrow down our data. "
   ]
  },
  {
   "cell_type": "code",
   "execution_count": 202,
   "metadata": {},
   "outputs": [],
   "source": [
    "new2_df = new1_df.copy()"
   ]
  },
  {
   "cell_type": "code",
   "execution_count": 203,
   "metadata": {},
   "outputs": [
    {
     "name": "stderr",
     "output_type": "stream",
     "text": [
      "C:\\Users\\User\\AppData\\Local\\Temp\\ipykernel_20000\\3774476353.py:5: FutureWarning: In a future version of pandas all arguments of DataFrame.drop except for the argument 'labels' will be keyword-only.\n",
      "  pca_test = new2_df.drop('STARS', 1)\n"
     ]
    }
   ],
   "source": [
    "from sklearn.decomposition import PCA\n",
    "from sklearn import preprocessing\n",
    "\n",
    "# drop the column we will be looking for \n",
    "pca_test = new2_df.drop('STARS', 1)\n",
    "\n",
    "#normalize data\n",
    "new2_df = pd.DataFrame(preprocessing.scale(pca_test), columns=pca_test.columns)\n",
    "\n",
    "# do PCA\n",
    "pca = PCA(n_components=len(new2_df.columns))\n",
    "x_new = pca.fit_transform(new2_df)\n",
    "x_new = pd.DataFrame(x_new)"
   ]
  },
  {
   "cell_type": "code",
   "execution_count": 204,
   "metadata": {},
   "outputs": [
    {
     "name": "stdout",
     "output_type": "stream",
     "text": [
      "            0         1         2         3         4         5         6   \\\n",
      "0     0.487477 -0.860459  0.707313  2.223757 -0.706142  0.100000  0.999048   \n",
      "1     1.021581 -1.376493  0.672606  1.637598 -0.520320  1.497042 -0.030858   \n",
      "2     0.697475 -0.219152  1.861341  1.511398  0.021959  0.448646  2.094347   \n",
      "3     0.866329 -1.215525 -0.338678  0.347458 -0.621025  1.299650  0.571090   \n",
      "4     0.368744  0.268235  1.857576  0.287559 -1.176064  0.214327 -0.226064   \n",
      "...        ...       ...       ...       ...       ...       ...       ...   \n",
      "9431 -0.132573  0.011758  0.321783 -0.995814  1.260042 -0.941229 -0.412717   \n",
      "9432  0.074318 -0.510953 -0.051712  1.655582  1.567713 -2.343693 -1.004226   \n",
      "9433 -0.587057 -1.500101  0.316508  0.009863  1.650224 -1.002118  0.491208   \n",
      "9434  0.618041 -1.495197 -0.505790  0.099043  0.622241 -0.916685  0.367179   \n",
      "9435 -0.446693 -1.280061  0.425489  0.518845  0.993088 -1.746309 -0.411749   \n",
      "\n",
      "            7         8         9         10        11  \n",
      "0     1.699161 -0.063068  1.443072  0.658293  0.168291  \n",
      "1     0.737850  0.690097  1.240260 -0.184056 -0.353160  \n",
      "2     1.210747 -1.656164 -0.328739 -0.153229 -1.617681  \n",
      "3     1.671246 -0.115150  1.316556 -1.390041 -0.089461  \n",
      "4     1.610412  0.936062  0.350532  0.814561 -0.468234  \n",
      "...        ...       ...       ...       ...       ...  \n",
      "9431 -1.140691  0.090233 -0.659830  0.553380 -0.321263  \n",
      "9432 -0.911288  0.254787 -0.376168  0.010839 -1.520810  \n",
      "9433 -0.007790  1.365045 -0.031739 -0.427407  0.131447  \n",
      "9434 -1.423191  0.880548 -0.607581 -0.761328 -0.183926  \n",
      "9435 -0.495520  1.629853  0.337119  0.232781 -0.083407  \n",
      "\n",
      "[9436 rows x 12 columns]\n"
     ]
    }
   ],
   "source": [
    "print(x_new)"
   ]
  },
  {
   "cell_type": "code",
   "execution_count": 205,
   "metadata": {},
   "outputs": [
    {
     "name": "stdout",
     "output_type": "stream",
     "text": [
      "Explain Variance:  [0.12975129 0.09827424 0.08732952 0.08565751 0.08462495 0.08325197\n",
      " 0.0821425  0.08119829 0.08035199 0.08005811 0.0695765  0.03778312]\n"
     ]
    }
   ],
   "source": [
    "print(\"Explain Variance: \", pca.explained_variance_ratio_)"
   ]
  },
  {
   "cell_type": "code",
   "execution_count": 210,
   "metadata": {},
   "outputs": [
    {
     "data": {
      "image/png": "[encoded data removed]",
      "text/plain": [
       "<Figure size 432x288 with 1 Axes>"
      ]
     },
     "metadata": {
      "needs_background": "light"
     },
     "output_type": "display_data"
    }
   ],
   "source": [
    "plt.figure(figsize=(6, 4))\n",
    "\n",
    "#plot the variance\n",
    "plt.plot(np.cumsum(pca.explained_variance_ratio_))\n",
    "\n",
    "plt.xlabel('n components')\n",
    "plt.ylabel('cumulative variance');"
   ]
  },
  {
   "cell_type": "markdown",
   "metadata": {},
   "source": [
    "We can see that almost 9 components explain the 90% of the data. "
   ]
  },
  {
   "cell_type": "markdown",
   "metadata": {},
   "source": [
    "### PDA Again"
   ]
  },
  {
   "cell_type": "code",
   "execution_count": 211,
   "metadata": {},
   "outputs": [],
   "source": [
    "pca = PCA(n_components=5)\n",
    "# choose the same set of data, with reduced components\n",
    "x_new = pca.fit_transform(new2_df)\n",
    "x_new = pd.DataFrame(x_new)"
   ]
  },
  {
   "cell_type": "code",
   "execution_count": 212,
   "metadata": {},
   "outputs": [
    {
     "name": "stdout",
     "output_type": "stream",
     "text": [
      "             0         1         2         3         4\n",
      "0     0.487477 -0.860459  0.707313  2.223757 -0.706142\n",
      "1     1.021581 -1.376493  0.672606  1.637598 -0.520320\n",
      "2     0.697475 -0.219152  1.861341  1.511398  0.021959\n",
      "3     0.866329 -1.215525 -0.338678  0.347458 -0.621025\n",
      "4     0.368744  0.268235  1.857576  0.287559 -1.176064\n",
      "...        ...       ...       ...       ...       ...\n",
      "9431 -0.132573  0.011758  0.321783 -0.995814  1.260042\n",
      "9432  0.074318 -0.510953 -0.051712  1.655582  1.567713\n",
      "9433 -0.587057 -1.500101  0.316508  0.009863  1.650224\n",
      "9434  0.618041 -1.495197 -0.505790  0.099043  0.622241\n",
      "9435 -0.446693 -1.280061  0.425489  0.518845  0.993088\n",
      "\n",
      "[9436 rows x 5 columns]\n"
     ]
    }
   ],
   "source": [
    "print(x_new)"
   ]
  },
  {
   "cell_type": "code",
   "execution_count": 213,
   "metadata": {},
   "outputs": [
    {
     "name": "stdout",
     "output_type": "stream",
     "text": [
      "Explain Variance:  [0.12975129 0.09827424 0.08732952 0.08565751 0.08462495]\n"
     ]
    }
   ],
   "source": [
    "print(\"Explain Variance: \", pca.explained_variance_ratio_)"
   ]
  },
  {
   "cell_type": "code",
   "execution_count": 216,
   "metadata": {},
   "outputs": [
    {
     "data": {
      "image/png": "[encoded data removed]",
      "text/plain": [
       "<Figure size 432x288 with 1 Axes>"
      ]
     },
     "metadata": {
      "needs_background": "light"
     },
     "output_type": "display_data"
    }
   ],
   "source": [
    "plt.figure(figsize=(6, 4))\n",
    "\n",
    "#plot the variance\n",
    "plt.plot(np.cumsum(pca.explained_variance_ratio_))\n",
    "\n",
    "plt.xlabel('n components')\n",
    "plt.ylabel('cumulative variance');"
   ]
  },
  {
   "cell_type": "markdown",
   "metadata": {},
   "source": [
    "The variance is highly removed in this data. The distribution is now highly balanced."
   ]
  },
  {
   "cell_type": "markdown",
   "metadata": {},
   "source": [
    "### 5 - Using Python, re-run your EDA analysis on any variables you have adjusted during Data Preparation and compare / contrast your results to those you saw prior to performing your Data Preparation adjustments. Describe how each of your Data Preparation adjustments have improved the data set for purposes of using it within a machine learning algorithm. "
   ]
  },
  {
   "cell_type": "markdown",
   "metadata": {},
   "source": [
    "### Re-running EDA"
   ]
  },
  {
   "cell_type": "code",
   "execution_count": 218,
   "metadata": {},
   "outputs": [
    {
     "data": {
      "text/html": [
       "<div>\n",
       "<style scoped>\n",
       "    .dataframe tbody tr th:only-of-type {\n",
       "        vertical-align: middle;\n",
       "    }\n",
       "\n",
       "    .dataframe tbody tr th {\n",
       "        vertical-align: top;\n",
       "    }\n",
       "\n",
       "    .dataframe thead th {\n",
       "        text-align: right;\n",
       "    }\n",
       "</style>\n",
       "<table border=\"1\" class=\"dataframe\">\n",
       "  <thead>\n",
       "    <tr style=\"text-align: right;\">\n",
       "      <th></th>\n",
       "      <th>Unique ID</th>\n",
       "      <th>Num Cases</th>\n",
       "      <th>Fixed Acidity</th>\n",
       "      <th>Volatile Acidity</th>\n",
       "      <th>Citric Acid</th>\n",
       "      <th>Residual Sugar</th>\n",
       "      <th>Chlorides</th>\n",
       "      <th>Sulfur Dioxide</th>\n",
       "      <th>Density</th>\n",
       "      <th>pH</th>\n",
       "      <th>Label Appeal</th>\n",
       "      <th>Total Acidity</th>\n",
       "      <th>STARS</th>\n",
       "    </tr>\n",
       "  </thead>\n",
       "  <tbody>\n",
       "    <tr>\n",
       "      <th>count</th>\n",
       "      <td>9436.000000</td>\n",
       "      <td>9436.000000</td>\n",
       "      <td>9436.000000</td>\n",
       "      <td>9436.000000</td>\n",
       "      <td>9436.000000</td>\n",
       "      <td>9436.000000</td>\n",
       "      <td>9436.000000</td>\n",
       "      <td>9436.000000</td>\n",
       "      <td>9436.000000</td>\n",
       "      <td>9436.000000</td>\n",
       "      <td>9436.000000</td>\n",
       "      <td>9436.000000</td>\n",
       "      <td>9436.000000</td>\n",
       "    </tr>\n",
       "    <tr>\n",
       "      <th>mean</th>\n",
       "      <td>8036.988872</td>\n",
       "      <td>3.685990</td>\n",
       "      <td>6.917820</td>\n",
       "      <td>0.297506</td>\n",
       "      <td>0.313923</td>\n",
       "      <td>5.577914</td>\n",
       "      <td>0.049088</td>\n",
       "      <td>33.489879</td>\n",
       "      <td>0.993862</td>\n",
       "      <td>3.202159</td>\n",
       "      <td>0.046948</td>\n",
       "      <td>7.639360</td>\n",
       "      <td>2.041755</td>\n",
       "    </tr>\n",
       "    <tr>\n",
       "      <th>std</th>\n",
       "      <td>4625.591814</td>\n",
       "      <td>1.552357</td>\n",
       "      <td>6.281915</td>\n",
       "      <td>0.780265</td>\n",
       "      <td>0.861098</td>\n",
       "      <td>32.837441</td>\n",
       "      <td>0.308310</td>\n",
       "      <td>145.328062</td>\n",
       "      <td>0.026547</td>\n",
       "      <td>0.666873</td>\n",
       "      <td>0.877451</td>\n",
       "      <td>1.178852</td>\n",
       "      <td>0.902540</td>\n",
       "    </tr>\n",
       "    <tr>\n",
       "      <th>min</th>\n",
       "      <td>1.000000</td>\n",
       "      <td>0.000000</td>\n",
       "      <td>-18.100000</td>\n",
       "      <td>-2.750000</td>\n",
       "      <td>-3.160000</td>\n",
       "      <td>-127.800000</td>\n",
       "      <td>-1.171000</td>\n",
       "      <td>-555.000000</td>\n",
       "      <td>0.888090</td>\n",
       "      <td>0.480000</td>\n",
       "      <td>-2.000000</td>\n",
       "      <td>4.000000</td>\n",
       "      <td>1.000000</td>\n",
       "    </tr>\n",
       "    <tr>\n",
       "      <th>25%</th>\n",
       "      <td>4040.500000</td>\n",
       "      <td>3.000000</td>\n",
       "      <td>5.100000</td>\n",
       "      <td>0.110000</td>\n",
       "      <td>0.050000</td>\n",
       "      <td>0.900000</td>\n",
       "      <td>-0.004000</td>\n",
       "      <td>6.000000</td>\n",
       "      <td>0.987138</td>\n",
       "      <td>2.970000</td>\n",
       "      <td>-1.000000</td>\n",
       "      <td>7.000000</td>\n",
       "      <td>1.000000</td>\n",
       "    </tr>\n",
       "    <tr>\n",
       "      <th>50%</th>\n",
       "      <td>8030.000000</td>\n",
       "      <td>4.000000</td>\n",
       "      <td>6.900000</td>\n",
       "      <td>0.270000</td>\n",
       "      <td>0.310000</td>\n",
       "      <td>4.600000</td>\n",
       "      <td>0.044000</td>\n",
       "      <td>32.000000</td>\n",
       "      <td>0.994100</td>\n",
       "      <td>3.190000</td>\n",
       "      <td>0.000000</td>\n",
       "      <td>7.000000</td>\n",
       "      <td>2.000000</td>\n",
       "    </tr>\n",
       "    <tr>\n",
       "      <th>75%</th>\n",
       "      <td>12020.250000</td>\n",
       "      <td>5.000000</td>\n",
       "      <td>9.200000</td>\n",
       "      <td>0.600000</td>\n",
       "      <td>0.580000</td>\n",
       "      <td>15.000000</td>\n",
       "      <td>0.118250</td>\n",
       "      <td>68.000000</td>\n",
       "      <td>1.000337</td>\n",
       "      <td>3.440000</td>\n",
       "      <td>1.000000</td>\n",
       "      <td>8.000000</td>\n",
       "      <td>3.000000</td>\n",
       "    </tr>\n",
       "    <tr>\n",
       "      <th>max</th>\n",
       "      <td>16129.000000</td>\n",
       "      <td>8.000000</td>\n",
       "      <td>32.500000</td>\n",
       "      <td>3.680000</td>\n",
       "      <td>3.770000</td>\n",
       "      <td>141.150000</td>\n",
       "      <td>1.270000</td>\n",
       "      <td>622.000000</td>\n",
       "      <td>1.099240</td>\n",
       "      <td>6.050000</td>\n",
       "      <td>2.000000</td>\n",
       "      <td>17.000000</td>\n",
       "      <td>4.000000</td>\n",
       "    </tr>\n",
       "  </tbody>\n",
       "</table>\n",
       "</div>"
      ],
      "text/plain": [
       "          Unique ID    Num Cases  Fixed Acidity  Volatile Acidity  \\\n",
       "count   9436.000000  9436.000000    9436.000000       9436.000000   \n",
       "mean    8036.988872     3.685990       6.917820          0.297506   \n",
       "std     4625.591814     1.552357       6.281915          0.780265   \n",
       "min        1.000000     0.000000     -18.100000         -2.750000   \n",
       "25%     4040.500000     3.000000       5.100000          0.110000   \n",
       "50%     8030.000000     4.000000       6.900000          0.270000   \n",
       "75%    12020.250000     5.000000       9.200000          0.600000   \n",
       "max    16129.000000     8.000000      32.500000          3.680000   \n",
       "\n",
       "       Citric Acid  Residual Sugar    Chlorides  Sulfur Dioxide      Density  \\\n",
       "count  9436.000000     9436.000000  9436.000000     9436.000000  9436.000000   \n",
       "mean      0.313923        5.577914     0.049088       33.489879     0.993862   \n",
       "std       0.861098       32.837441     0.308310      145.328062     0.026547   \n",
       "min      -3.160000     -127.800000    -1.171000     -555.000000     0.888090   \n",
       "25%       0.050000        0.900000    -0.004000        6.000000     0.987138   \n",
       "50%       0.310000        4.600000     0.044000       32.000000     0.994100   \n",
       "75%       0.580000       15.000000     0.118250       68.000000     1.000337   \n",
       "max       3.770000      141.150000     1.270000      622.000000     1.099240   \n",
       "\n",
       "                pH  Label Appeal  Total Acidity        STARS  \n",
       "count  9436.000000   9436.000000    9436.000000  9436.000000  \n",
       "mean      3.202159      0.046948       7.639360     2.041755  \n",
       "std       0.666873      0.877451       1.178852     0.902540  \n",
       "min       0.480000     -2.000000       4.000000     1.000000  \n",
       "25%       2.970000     -1.000000       7.000000     1.000000  \n",
       "50%       3.190000      0.000000       7.000000     2.000000  \n",
       "75%       3.440000      1.000000       8.000000     3.000000  \n",
       "max       6.050000      2.000000      17.000000     4.000000  "
      ]
     },
     "execution_count": 218,
     "metadata": {},
     "output_type": "execute_result"
    }
   ],
   "source": [
    "new1_df.describe()"
   ]
  },
  {
   "cell_type": "markdown",
   "metadata": {},
   "source": [
    "### Before: \n",
    "\n",
    "Stars vs Number of Cases"
   ]
  },
  {
   "cell_type": "code",
   "execution_count": 220,
   "metadata": {},
   "outputs": [
    {
     "data": {
      "image/png": "[encoded data removed]",
      "text/plain": [
       "<Figure size 432x288 with 1 Axes>"
      ]
     },
     "metadata": {
      "needs_background": "light"
     },
     "output_type": "display_data"
    }
   ],
   "source": [
    "sns.barplot(x = 'STARS', y = 'Num Cases', data = new_df)\n",
    "plt.show()"
   ]
  },
  {
   "cell_type": "markdown",
   "metadata": {},
   "source": [
    "### After"
   ]
  },
  {
   "cell_type": "code",
   "execution_count": 219,
   "metadata": {},
   "outputs": [
    {
     "data": {
      "image/png": "[encoded data removed]",
      "text/plain": [
       "<Figure size 432x288 with 1 Axes>"
      ]
     },
     "metadata": {
      "needs_background": "light"
     },
     "output_type": "display_data"
    }
   ],
   "source": [
    "sns.barplot(x = 'STARS', y = 'Num Cases', data = new1_df)\n",
    "plt.show()"
   ]
  },
  {
   "cell_type": "markdown",
   "metadata": {},
   "source": [
    "The data set suggests that the higher rated \"STARS\" wines are sold more. Which is slightly different than what we had before"
   ]
  },
  {
   "cell_type": "markdown",
   "metadata": {},
   "source": [
    "### Before:\n",
    "\n",
    "Lebel Appeal vs Number of Cases"
   ]
  },
  {
   "cell_type": "code",
   "execution_count": 221,
   "metadata": {},
   "outputs": [
    {
     "data": {
      "image/png": "[encoded data removed]",
      "text/plain": [
       "<Figure size 432x288 with 1 Axes>"
      ]
     },
     "metadata": {
      "needs_background": "light"
     },
     "output_type": "display_data"
    }
   ],
   "source": [
    "sns.barplot(x = 'Label Appeal', y = 'Num Cases', data = new_df)\n",
    "plt.show()"
   ]
  },
  {
   "cell_type": "markdown",
   "metadata": {},
   "source": [
    "### After:"
   ]
  },
  {
   "cell_type": "code",
   "execution_count": 222,
   "metadata": {},
   "outputs": [
    {
     "data": {
      "image/png": "[encoded data removed]",
      "text/plain": [
       "<Figure size 432x288 with 1 Axes>"
      ]
     },
     "metadata": {
      "needs_background": "light"
     },
     "output_type": "display_data"
    }
   ],
   "source": [
    "sns.barplot(x = 'Label Appeal', y = 'Num Cases', data = new1_df)\n",
    "plt.show()"
   ]
  },
  {
   "cell_type": "markdown",
   "metadata": {},
   "source": [
    "There has not been much change in lebel appeal vs number of cases. Each time the number of cases sold are higher with more appealing lebel."
   ]
  },
  {
   "cell_type": "markdown",
   "metadata": {},
   "source": [
    "### Before:\n",
    "\n",
    "STARS vs Resigual Sugar"
   ]
  },
  {
   "cell_type": "code",
   "execution_count": 223,
   "metadata": {},
   "outputs": [
    {
     "data": {
      "image/png": "[encoded data removed]",
      "text/plain": [
       "<Figure size 432x288 with 1 Axes>"
      ]
     },
     "metadata": {
      "needs_background": "light"
     },
     "output_type": "display_data"
    }
   ],
   "source": [
    "sns.barplot(x = 'STARS', y = 'Residual Sugar', data = new_df)\n",
    "plt.show()"
   ]
  },
  {
   "cell_type": "markdown",
   "metadata": {},
   "source": [
    "### After:"
   ]
  },
  {
   "cell_type": "code",
   "execution_count": 224,
   "metadata": {},
   "outputs": [
    {
     "data": {
      "image/png": "[encoded data removed]",
      "text/plain": [
       "<Figure size 432x288 with 1 Axes>"
      ]
     },
     "metadata": {
      "needs_background": "light"
     },
     "output_type": "display_data"
    }
   ],
   "source": [
    "sns.barplot(x = 'STARS', y = 'Residual Sugar', data = new1_df)\n",
    "plt.show()"
   ]
  },
  {
   "cell_type": "markdown",
   "metadata": {},
   "source": [
    "Slight change in sistribution, with the higher STAR, there is more sugar content of sugar in wine. "
   ]
  },
  {
   "cell_type": "markdown",
   "metadata": {},
   "source": [
    "### Before:\n",
    " \n",
    "STARS vs Number of Cases"
   ]
  },
  {
   "cell_type": "code",
   "execution_count": 227,
   "metadata": {},
   "outputs": [
    {
     "data": {
      "text/plain": [
       "<AxesSubplot:xlabel='STARS', ylabel='Num Cases'>"
      ]
     },
     "execution_count": 227,
     "metadata": {},
     "output_type": "execute_result"
    },
    {
     "data": {
      "image/png": "[encoded data removed]",
      "text/plain": [
       "<Figure size 432x288 with 1 Axes>"
      ]
     },
     "metadata": {
      "needs_background": "light"
     },
     "output_type": "display_data"
    }
   ],
   "source": [
    "#doing the same as above in seaborn\n",
    "sns.boxplot(y ='Num Cases', x ='STARS',data = new_df )"
   ]
  },
  {
   "cell_type": "markdown",
   "metadata": {},
   "source": [
    "### After: "
   ]
  },
  {
   "cell_type": "code",
   "execution_count": 225,
   "metadata": {},
   "outputs": [
    {
     "data": {
      "text/plain": [
       "<AxesSubplot:xlabel='STARS', ylabel='Num Cases'>"
      ]
     },
     "execution_count": 225,
     "metadata": {},
     "output_type": "execute_result"
    },
    {
     "data": {
      "image/png": "[encoded data removed]",
      "text/plain": [
       "<Figure size 432x288 with 1 Axes>"
      ]
     },
     "metadata": {
      "needs_background": "light"
     },
     "output_type": "display_data"
    }
   ],
   "source": [
    "#doing the same as above in seaborn\n",
    "sns.boxplot(y ='Num Cases', x ='STARS',data = new1_df )"
   ]
  },
  {
   "cell_type": "markdown",
   "metadata": {},
   "source": [
    "Conclusion: \n",
    "\n",
    "These has been slight change in the graphs. Some of the graphs make more sense. However, Some has stayed the same.\n"
   ]
  }
 ],
 "metadata": {
  "kernelspec": {
   "display_name": "Python 3.9.12 ('base')",
   "language": "python",
   "name": "python3"
  },
  "language_info": {
   "codemirror_mode": {
    "name": "ipython",
    "version": 3
   },
   "file_extension": ".py",
   "mimetype": "text/x-python",
   "name": "python",
   "nbconvert_exporter": "python",
   "pygments_lexer": "ipython3",
   "version": "3.9.12"
  },
  "orig_nbformat": 4,
  "vscode": {
   "interpreter": {
    "hash": "f08154012ddadd8e950e6e9e035c7a7b32c136e7647e9b7c77e02eb723a8bedb"
   }
  }
 },
 "nbformat": 4,
 "nbformat_minor": 2
}
